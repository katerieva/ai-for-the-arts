{
 "cells": [
  {
   "cell_type": "markdown",
   "id": "ab9f05d6",
   "metadata": {},
   "source": [
    "# An Introduction to GitHub "
   ]
  },
  {
   "cell_type": "markdown",
   "id": "7e163617",
   "metadata": {},
   "source": [
    "## Within this notebook, I would like to:"
   ]
  },
  {
   "cell_type": "markdown",
   "id": "c5d88d49",
   "metadata": {},
   "source": [
    "### -Learn to store files in GitHub\n",
    "### -Understand the fundamentals of GitHub\n",
    "### -Practice writing basic code"
   ]
  },
  {
   "cell_type": "markdown",
   "id": "51b5640f",
   "metadata": {},
   "source": [
    "# Hello, World!"
   ]
  },
  {
   "cell_type": "markdown",
   "id": "a4835bb1",
   "metadata": {},
   "source": [
    "## This code represents my first attempt at programming in this course. This will teach me the fundamentals of utilizing GitHub to write and store code."
   ]
  },
  {
   "cell_type": "code",
   "execution_count": 4,
   "id": "dee2ea1c",
   "metadata": {},
   "outputs": [
    {
     "name": "stdout",
     "output_type": "stream",
     "text": [
      "Hello, World!\n"
     ]
    }
   ],
   "source": [
    "print(\"Hello, World!\")"
   ]
  },
  {
   "cell_type": "markdown",
   "id": "d6a4f4ff",
   "metadata": {},
   "source": [
    "# Copilot Exercise "
   ]
  },
  {
   "cell_type": "markdown",
   "id": "7efd5b24",
   "metadata": {},
   "source": [
    "### Prompt: Could you suggest a python code for ‘Hello, world!’ to demonstrate the concept of printing to a complete beginner in programming? Please explain the code step-by-step highlighting any key aspects."
   ]
  },
  {
   "cell_type": "markdown",
   "id": "99ac31f1",
   "metadata": {},
   "source": [
    "#### My key learning outcomes: From entering this prompt into Copilot, I learned about the correct code to use and what each element of the code means. The suggested code to use was print(\"Hello, world!\"). The print function is used to output text to the console, quotation marks inform Python that there is a sequence of characters, while parentheses enclose text in the way that is desired to print. "
   ]
  },
  {
   "cell_type": "code",
   "execution_count": 5,
   "id": "ebc10c9c",
   "metadata": {},
   "outputs": [
    {
     "name": "stdout",
     "output_type": "stream",
     "text": [
      "Hello, world!\n"
     ]
    }
   ],
   "source": [
    "\n",
    "print(\"Hello, world!\")"
   ]
  },
  {
   "cell_type": "markdown",
   "id": "945ef12e",
   "metadata": {},
   "source": [
    "## Additional Prompt Practice: Arithmetic Coding"
   ]
  },
  {
   "cell_type": "code",
   "execution_count": 6,
   "id": "359a6708",
   "metadata": {},
   "outputs": [
    {
     "name": "stdout",
     "output_type": "stream",
     "text": [
      "8\n"
     ]
    }
   ],
   "source": [
    "# Add two numbers\n",
    "print(5 + 3)"
   ]
  },
  {
   "cell_type": "markdown",
   "id": "977e7564",
   "metadata": {},
   "source": [
    "# Modified Version of \"Hello, world!\" With Variable"
   ]
  },
  {
   "cell_type": "markdown",
   "id": "765aeb33",
   "metadata": {},
   "source": [
    "### Initial Prompt: Could you suggest a modification of the Python code for “Hello, world!” to demonstrate the concept of variables to a complete beginner in programming? Please explain the code step-by-step highlighting any key aspects. "
   ]
  },
  {
   "cell_type": "code",
   "execution_count": 1,
   "id": "77a956ba",
   "metadata": {},
   "outputs": [
    {
     "name": "stdout",
     "output_type": "stream",
     "text": [
      "Hello, world!\n"
     ]
    }
   ],
   "source": [
    "# Store the message in a variable\n",
    "message = \"Hello, world!\"\n",
    "\n",
    "# Print the message\n",
    "print(message)"
   ]
  },
  {
   "cell_type": "markdown",
   "id": "66a4f69a",
   "metadata": {},
   "source": [
    "### Notes: In this modified code, the message is the variable, while the (=) sign assigns value to the variable. \"Hello, world!\" is used as a string, or sequence of characters. "
   ]
  },
  {
   "cell_type": "markdown",
   "id": "b2576b4f",
   "metadata": {},
   "source": [
    "# Modified Version of \"Hello, world!\" With Function"
   ]
  },
  {
   "cell_type": "markdown",
   "id": "228bd89a",
   "metadata": {},
   "source": [
    "### Initial Prompt: Could you suggest a modification of the Python code for “Hello, world!” to demonstrate the concept of functions to a complete beginner in programming? Please explain the code step-by-step highlighting any key aspects."
   ]
  },
  {
   "cell_type": "code",
   "execution_count": 2,
   "id": "bd112d69",
   "metadata": {},
   "outputs": [
    {
     "name": "stdout",
     "output_type": "stream",
     "text": [
      "Hello, world!\n"
     ]
    }
   ],
   "source": [
    "# Define a function to print a message\n",
    "def print_message():\n",
    "    message = \"Hello, world!\"\n",
    "    print(message)\n",
    "\n",
    "# Call the function\n",
    "print_message()"
   ]
  },
  {
   "cell_type": "markdown",
   "id": "6a705482",
   "metadata": {},
   "source": [
    "### Notes: Within this modified code, the def keyword is used to define a new function, while print_message is the name of the function. The indentation in the body text defines the scope of the function. Lastly, print_message() calls the function and prints the message."
   ]
  },
  {
   "cell_type": "markdown",
   "id": "dac8a002",
   "metadata": {},
   "source": [
    "### Learning Outcome: Overall, coding the prompts and gaining assitance from Copilot has given me a more in depth idea of how coding works in GitHub. I now understand what the basic elements of code indicate, such as the (=) sign indicating the varialble's value. It was also helpful for me to utilize Copilot for this exercise because it acted as a tutor for me. I can now use the same process with Copilot assitance for other inquiries. "
   ]
  }
 ],
 "metadata": {
  "kernelspec": {
   "display_name": "Python 3",
   "language": "python",
   "name": "python3"
  },
  "language_info": {
   "codemirror_mode": {
    "name": "ipython",
    "version": 3
   },
   "file_extension": ".py",
   "mimetype": "text/x-python",
   "name": "python",
   "nbconvert_exporter": "python",
   "pygments_lexer": "ipython3",
   "version": "3.12.1"
  }
 },
 "nbformat": 4,
 "nbformat_minor": 5
}
