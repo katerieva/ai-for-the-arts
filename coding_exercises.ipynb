{
 "cells": [
  {
   "cell_type": "markdown",
   "id": "ab9f05d6",
   "metadata": {},
   "source": [
    "# An Introduction to GitHub "
   ]
  },
  {
   "cell_type": "markdown",
   "id": "7e163617",
   "metadata": {},
   "source": [
    "## Within this notebook, I would like to:"
   ]
  },
  {
   "cell_type": "markdown",
   "id": "c5d88d49",
   "metadata": {},
   "source": [
    "### -Learn to store files in GitHub\n",
    "### -Understand the fundamentals of GitHub\n",
    "### -Practice writing basic code"
   ]
  },
  {
   "cell_type": "markdown",
   "id": "51b5640f",
   "metadata": {},
   "source": [
    "# Hello, World!"
   ]
  },
  {
   "cell_type": "markdown",
   "id": "a4835bb1",
   "metadata": {},
   "source": [
    "## This code represents my first attempt at programming in this course. This will teach me the fundamentals of utilizing GitHub to write and store code."
   ]
  },
  {
   "cell_type": "code",
   "execution_count": 1,
   "id": "dee2ea1c",
   "metadata": {},
   "outputs": [
    {
     "name": "stdout",
     "output_type": "stream",
     "text": [
      "Hello, World!\n"
     ]
    }
   ],
   "source": [
    "print(\"Hello, World!\")"
   ]
  }
 ],
 "metadata": {
  "kernelspec": {
   "display_name": "Python 3",
   "language": "python",
   "name": "python3"
  },
  "language_info": {
   "codemirror_mode": {
    "name": "ipython",
    "version": 3
   },
   "file_extension": ".py",
   "mimetype": "text/x-python",
   "name": "python",
   "nbconvert_exporter": "python",
   "pygments_lexer": "ipython3",
   "version": "3.12.1"
  }
 },
 "nbformat": 4,
 "nbformat_minor": 5
}
